{
 "cells": [
  {
   "cell_type": "code",
   "execution_count": 1,
   "id": "c4ced539",
   "metadata": {
    "_cell_guid": "b1076dfc-b9ad-4769-8c92-a6c4dae69d19",
    "_uuid": "8f2839f25d086af736a60e9eeb907d3b93b6e0e5",
    "execution": {
     "iopub.execute_input": "2021-11-16T18:50:36.051905Z",
     "iopub.status.busy": "2021-11-16T18:50:36.050819Z",
     "iopub.status.idle": "2021-11-16T18:50:36.063051Z",
     "shell.execute_reply": "2021-11-16T18:50:36.063759Z",
     "shell.execute_reply.started": "2021-11-16T18:29:03.005589Z"
    },
    "papermill": {
     "duration": 0.030707,
     "end_time": "2021-11-16T18:50:36.064162",
     "exception": false,
     "start_time": "2021-11-16T18:50:36.033455",
     "status": "completed"
    },
    "tags": []
   },
   "outputs": [
    {
     "name": "stdout",
     "output_type": "stream",
     "text": [
      "/kaggle/input/digit-recognizer/sample_submission.csv\n",
      "/kaggle/input/digit-recognizer/train.csv\n",
      "/kaggle/input/digit-recognizer/test.csv\n"
     ]
    }
   ],
   "source": [
    "# This Python 3 environment comes with many helpful analytics libraries installed\n",
    "# It is defined by the kaggle/python Docker image: https://github.com/kaggle/docker-python\n",
    "# For example, here's several helpful packages to load\n",
    "\n",
    "import numpy as np # linear algebra\n",
    "import pandas as pd # data processing, CSV file I/O (e.g. pd.read_csv)\n",
    "\n",
    "# Input data files are available in the read-only \"../input/\" directory\n",
    "# For example, running this (by clicking run or pressing Shift+Enter) will list all files under the input directory\n",
    "\n",
    "import os\n",
    "for dirname, _, filenames in os.walk('/kaggle/input'):\n",
    "    for filename in filenames:\n",
    "        print(os.path.join(dirname, filename))\n",
    "\n",
    "# You can write up to 20GB to the current directory (/kaggle/working/) that gets preserved as output when you create a version using \"Save & Run All\" \n",
    "# You can also write temporary files to /kaggle/temp/, but they won't be saved outside of the current session"
   ]
  },
  {
   "cell_type": "code",
   "execution_count": 2,
   "id": "8bd78a5e",
   "metadata": {
    "execution": {
     "iopub.execute_input": "2021-11-16T18:50:36.089619Z",
     "iopub.status.busy": "2021-11-16T18:50:36.088688Z",
     "iopub.status.idle": "2021-11-16T18:50:36.095366Z",
     "shell.execute_reply": "2021-11-16T18:50:36.095792Z",
     "shell.execute_reply.started": "2021-11-16T18:29:03.017813Z"
    },
    "papermill": {
     "duration": 0.021135,
     "end_time": "2021-11-16T18:50:36.095987",
     "exception": false,
     "start_time": "2021-11-16T18:50:36.074852",
     "status": "completed"
    },
    "tags": []
   },
   "outputs": [],
   "source": [
    "NUM_FOLDS = 10\n",
    "\n",
    "import csv\n",
    "train_csv_path = '/kaggle/input/digit-recognizer/train.csv'\n",
    "test_csv_path = '/kaggle/input/digit-recognizer/test.csv'\n",
    "max_tam = 1000\n",
    "\n",
    "def read_data():\n",
    "    with open(train_csv_path) as csv_file:\n",
    "        csv_reader = csv.reader(csv_file, delimiter=',')\n",
    "        next(csv_reader, None)  # skip the headers\n",
    "        X = []\n",
    "        y = []\n",
    "        for row in csv_reader:\n",
    "            X.append(list(map(int, row[1:])))\n",
    "            y.append(row[0])\n",
    "        if max_tam != None:\n",
    "            X = X[:max_tam]\n",
    "            y = y[:max_tam]\n",
    "        return np.array(X),np.array(y)"
   ]
  },
  {
   "cell_type": "code",
   "execution_count": 3,
   "id": "d00c860a",
   "metadata": {
    "execution": {
     "iopub.execute_input": "2021-11-16T18:50:36.120406Z",
     "iopub.status.busy": "2021-11-16T18:50:36.119330Z",
     "iopub.status.idle": "2021-11-16T18:50:37.111701Z",
     "shell.execute_reply": "2021-11-16T18:50:37.111165Z",
     "shell.execute_reply.started": "2021-11-16T18:29:03.030999Z"
    },
    "papermill": {
     "duration": 1.006366,
     "end_time": "2021-11-16T18:50:37.111867",
     "exception": false,
     "start_time": "2021-11-16T18:50:36.105501",
     "status": "completed"
    },
    "tags": []
   },
   "outputs": [],
   "source": [
    "from sklearn.model_selection import cross_val_score\n",
    "from sklearn.model_selection import RepeatedKFold\n",
    "\n",
    "\n",
    "def evaluate(model):\n",
    "    # read the data\n",
    "    X, y = read_data()\n",
    "\n",
    "    # define the evaluation procedure\n",
    "    cv = RepeatedKFold(n_splits=NUM_FOLDS, n_repeats=1, random_state=1)\n",
    "\n",
    "    # evaluate the model and collect the scores\n",
    "    scores = cross_val_score(model, X, y, scoring='accuracy', cv=cv, n_jobs=-1)\n",
    "\n",
    "    return mean(scores)"
   ]
  },
  {
   "cell_type": "code",
   "execution_count": 4,
   "id": "d925c91d",
   "metadata": {
    "execution": {
     "iopub.execute_input": "2021-11-16T18:50:37.139998Z",
     "iopub.status.busy": "2021-11-16T18:50:37.139301Z",
     "iopub.status.idle": "2021-11-16T18:50:37.457258Z",
     "shell.execute_reply": "2021-11-16T18:50:37.456716Z",
     "shell.execute_reply.started": "2021-11-16T18:29:03.043366Z"
    },
    "papermill": {
     "duration": 0.335915,
     "end_time": "2021-11-16T18:50:37.457437",
     "exception": false,
     "start_time": "2021-11-16T18:50:37.121522",
     "status": "completed"
    },
    "tags": []
   },
   "outputs": [],
   "source": [
    "from sklearn.neighbors import KNeighborsClassifier\n",
    "from sklearn.svm import SVC\n",
    "from sklearn.tree import DecisionTreeClassifier\n",
    "from sklearn.ensemble import RandomForestClassifier, GradientBoostingClassifier, AdaBoostClassifier\n",
    "from sklearn.neural_network import MLPClassifier\n",
    "from sklearn.naive_bayes import GaussianNB\n",
    "from sklearn.discriminant_analysis import QuadraticDiscriminantAnalysis\n",
    "models = {\n",
    "    \"KNeighborsClassifier\": KNeighborsClassifier(),\n",
    "    \"SVC\": SVC(),\n",
    "    \"Decision Tree\": DecisionTreeClassifier(),\n",
    "    \"Random Forest\": RandomForestClassifier(),\n",
    "    \"MLPClassifier\": MLPClassifier(),\n",
    "    \"GradientBoostingClassifier\": GradientBoostingClassifier(),\n",
    "    \"AdaBoost\": AdaBoostClassifier(),\n",
    "    \"GaussianNB\": GaussianNB(),\n",
    "    \"QuadraticDiscriminantAnalysis\": QuadraticDiscriminantAnalysis()\n",
    "}\n",
    "\n",
    "models = {\n",
    "    \"KNeighborsClassifier\": KNeighborsClassifier(),\n",
    "    \"SVC\": SVC(random_state=0),\n",
    "    \"Random Forest\": RandomForestClassifier(random_state=0),\n",
    "    \"MLPClassifier\": MLPClassifier(random_state=0),\n",
    "}"
   ]
  },
  {
   "cell_type": "code",
   "execution_count": 5,
   "id": "2551d966",
   "metadata": {
    "execution": {
     "iopub.execute_input": "2021-11-16T18:50:37.483969Z",
     "iopub.status.busy": "2021-11-16T18:50:37.483316Z",
     "iopub.status.idle": "2021-11-16T18:50:37.486529Z",
     "shell.execute_reply": "2021-11-16T18:50:37.485909Z",
     "shell.execute_reply.started": "2021-11-16T18:29:03.058784Z"
    },
    "papermill": {
     "duration": 0.019445,
     "end_time": "2021-11-16T18:50:37.486685",
     "exception": false,
     "start_time": "2021-11-16T18:50:37.467240",
     "status": "completed"
    },
    "tags": []
   },
   "outputs": [],
   "source": [
    "from numpy import mean\n",
    "\n",
    "def try_all_models():\n",
    "    names = models.keys()\n",
    "    scores = {}\n",
    "    for name in names:\n",
    "        print(f\"Evaluating {name}\")\n",
    "        model = models[name]\n",
    "        score = evaluate(model)\n",
    "        scores[name] = score\n",
    "    print(scores)"
   ]
  },
  {
   "cell_type": "code",
   "execution_count": 6,
   "id": "9d84e641",
   "metadata": {
    "execution": {
     "iopub.execute_input": "2021-11-16T18:50:37.509890Z",
     "iopub.status.busy": "2021-11-16T18:50:37.509299Z",
     "iopub.status.idle": "2021-11-16T18:51:17.500164Z",
     "shell.execute_reply": "2021-11-16T18:51:17.500694Z",
     "shell.execute_reply.started": "2021-11-16T18:29:03.074806Z"
    },
    "papermill": {
     "duration": 40.004486,
     "end_time": "2021-11-16T18:51:17.500904",
     "exception": false,
     "start_time": "2021-11-16T18:50:37.496418",
     "status": "completed"
    },
    "tags": []
   },
   "outputs": [
    {
     "name": "stdout",
     "output_type": "stream",
     "text": [
      "Evaluating KNeighborsClassifier\n",
      "Evaluating SVC\n",
      "Evaluating Random Forest\n",
      "Evaluating MLPClassifier\n",
      "{'KNeighborsClassifier': 0.8459999999999999, 'SVC': 0.9, 'Random Forest': 0.8870000000000001, 'MLPClassifier': 0.784}\n"
     ]
    }
   ],
   "source": [
    "try_all_models()"
   ]
  },
  {
   "cell_type": "code",
   "execution_count": 7,
   "id": "2b9c709b",
   "metadata": {
    "execution": {
     "iopub.execute_input": "2021-11-16T18:51:17.531400Z",
     "iopub.status.busy": "2021-11-16T18:51:17.530633Z",
     "iopub.status.idle": "2021-11-16T18:51:17.533766Z",
     "shell.execute_reply": "2021-11-16T18:51:17.533230Z",
     "shell.execute_reply.started": "2021-11-16T18:29:53.080416Z"
    },
    "papermill": {
     "duration": 0.022082,
     "end_time": "2021-11-16T18:51:17.533935",
     "exception": false,
     "start_time": "2021-11-16T18:51:17.511853",
     "status": "completed"
    },
    "tags": []
   },
   "outputs": [],
   "source": [
    "from sklearn.model_selection import GridSearchCV\n",
    "from sklearn.model_selection import RepeatedKFold\n",
    "\n",
    "def tuning():\n",
    "    # read the data\n",
    "    X, y = read_data()\n",
    "\n",
    "    # define model\n",
    "    model = SVC(random_state=0)\n",
    "\n",
    "    # find best parameters\n",
    "    param_test = {'kernel':['linear', 'poly', 'rbf']}\n",
    "    gsearch = GridSearchCV(estimator = model,\n",
    "                           param_grid = param_test,\n",
    "                           scoring='accuracy',n_jobs=-1,\n",
    "                           cv = RepeatedKFold(n_splits=NUM_FOLDS, n_repeats=1, random_state=1))\n",
    "    gsearch.fit(X, y)\n",
    "    print(gsearch.best_params_)\n",
    "    print(gsearch.best_score_)"
   ]
  },
  {
   "cell_type": "code",
   "execution_count": 8,
   "id": "615351c7",
   "metadata": {
    "execution": {
     "iopub.execute_input": "2021-11-16T18:51:17.568006Z",
     "iopub.status.busy": "2021-11-16T18:51:17.567035Z",
     "iopub.status.idle": "2021-11-16T18:51:17.569749Z",
     "shell.execute_reply": "2021-11-16T18:51:17.569222Z",
     "shell.execute_reply.started": "2021-11-16T18:29:53.091444Z"
    },
    "papermill": {
     "duration": 0.024798,
     "end_time": "2021-11-16T18:51:17.569917",
     "exception": false,
     "start_time": "2021-11-16T18:51:17.545119",
     "status": "completed"
    },
    "tags": []
   },
   "outputs": [],
   "source": [
    "from sklearn.base import BaseEstimator\n",
    "from sklearn.base import ClassifierMixin\n",
    "import numpy as np\n",
    "\n",
    "class MyOwnClassifier(BaseEstimator, ClassifierMixin):\n",
    "    def fit(self, X, y):\n",
    "        self.classes_ = np.unique(y)\n",
    "        self.samples = {}\n",
    "        for y_possible_value in self.classes_:\n",
    "            self.samples[y_possible_value] = [X[i] for i in range(len(X)) if y[i]==y_possible_value]\n",
    "        return self\n",
    "    def predict(self, X):\n",
    "        ret = np.array([])\n",
    "        for x in X:\n",
    "            probas = self.predict_proba([x])\n",
    "            i = np.argmax(probas)\n",
    "            ret = np.append(ret, self.classes_[i])\n",
    "        return ret\n",
    "    def predict_proba(self, X):\n",
    "        ret = np.array([])\n",
    "        for x in X:\n",
    "            mean_correlations = {}\n",
    "            for y_possible_value in self.classes_:\n",
    "                sum_correlations = 0\n",
    "                for sample in self.samples[y_possible_value]:\n",
    "                    correlation = sum(x * sample)\n",
    "                    sum_correlations += correlation\n",
    "                mean_correlation = sum_correlations/len(self.samples[y_possible_value])\n",
    "                mean_correlations[y_possible_value] = mean_correlation\n",
    "            arr = np.array(list(mean_correlations.values()))\n",
    "            probas = arr / sum(arr)\n",
    "            ret = np.append(ret, probas)\n",
    "        return np.reshape(ret, (len(X), -1))"
   ]
  },
  {
   "cell_type": "code",
   "execution_count": 9,
   "id": "821c496a",
   "metadata": {
    "execution": {
     "iopub.execute_input": "2021-11-16T18:51:17.599002Z",
     "iopub.status.busy": "2021-11-16T18:51:17.598324Z",
     "iopub.status.idle": "2021-11-16T18:51:17.601720Z",
     "shell.execute_reply": "2021-11-16T18:51:17.600972Z",
     "shell.execute_reply.started": "2021-11-16T18:29:53.115543Z"
    },
    "papermill": {
     "duration": 0.020704,
     "end_time": "2021-11-16T18:51:17.601891",
     "exception": false,
     "start_time": "2021-11-16T18:51:17.581187",
     "status": "completed"
    },
    "tags": []
   },
   "outputs": [],
   "source": [
    "def read_test_data():\n",
    "    with open(test_csv_path) as csv_file:\n",
    "        csv_reader = csv.reader(csv_file, delimiter=',')\n",
    "        next(csv_reader, None)  # skip the headers\n",
    "        X = []\n",
    "        for row in csv_reader:\n",
    "            X.append(list(map(int, row)))\n",
    "        return np.array(X)"
   ]
  },
  {
   "cell_type": "code",
   "execution_count": 10,
   "id": "0d1a8c63",
   "metadata": {
    "execution": {
     "iopub.execute_input": "2021-11-16T18:51:17.627456Z",
     "iopub.status.busy": "2021-11-16T18:51:17.626798Z",
     "iopub.status.idle": "2021-11-16T18:51:30.741368Z",
     "shell.execute_reply": "2021-11-16T18:51:30.740671Z",
     "shell.execute_reply.started": "2021-11-16T18:29:53.130845Z"
    },
    "papermill": {
     "duration": 13.128531,
     "end_time": "2021-11-16T18:51:30.741539",
     "exception": false,
     "start_time": "2021-11-16T18:51:17.613008",
     "status": "completed"
    },
    "tags": []
   },
   "outputs": [],
   "source": [
    "X_train,y_train = read_data()\n",
    "X_test = read_test_data()"
   ]
  },
  {
   "cell_type": "code",
   "execution_count": 11,
   "id": "894be10e",
   "metadata": {
    "execution": {
     "iopub.execute_input": "2021-11-16T18:51:30.772513Z",
     "iopub.status.busy": "2021-11-16T18:51:30.771385Z",
     "iopub.status.idle": "2021-11-16T18:51:58.438495Z",
     "shell.execute_reply": "2021-11-16T18:51:58.437879Z",
     "shell.execute_reply.started": "2021-11-16T18:30:13.138044Z"
    },
    "papermill": {
     "duration": 27.685916,
     "end_time": "2021-11-16T18:51:58.438663",
     "exception": false,
     "start_time": "2021-11-16T18:51:30.752747",
     "status": "completed"
    },
    "tags": []
   },
   "outputs": [],
   "source": [
    "model = SVC(random_state=0)\n",
    "model.fit(X_train, y_train)\n",
    "y_pred = model.predict(X_test)"
   ]
  },
  {
   "cell_type": "code",
   "execution_count": 12,
   "id": "44662574",
   "metadata": {
    "execution": {
     "iopub.execute_input": "2021-11-16T18:51:58.470791Z",
     "iopub.status.busy": "2021-11-16T18:51:58.470116Z",
     "iopub.status.idle": "2021-11-16T18:51:58.516831Z",
     "shell.execute_reply": "2021-11-16T18:51:58.517329Z",
     "shell.execute_reply.started": "2021-11-16T18:34:53.871242Z"
    },
    "papermill": {
     "duration": 0.067855,
     "end_time": "2021-11-16T18:51:58.517547",
     "exception": false,
     "start_time": "2021-11-16T18:51:58.449692",
     "status": "completed"
    },
    "tags": []
   },
   "outputs": [],
   "source": [
    "predictions = y_pred\n",
    "submission = pd.DataFrame()\n",
    "submission['ImageId'] = range(28000)\n",
    "submission['Label'] = predictions.reshape((predictions.shape[0]))\n",
    "submission.to_csv('sub.csv', index=False)"
   ]
  },
  {
   "cell_type": "code",
   "execution_count": 13,
   "id": "b5c5e3bb",
   "metadata": {
    "execution": {
     "iopub.execute_input": "2021-11-16T18:51:58.543025Z",
     "iopub.status.busy": "2021-11-16T18:51:58.542421Z",
     "iopub.status.idle": "2021-11-16T18:51:58.576603Z",
     "shell.execute_reply": "2021-11-16T18:51:58.577056Z",
     "shell.execute_reply.started": "2021-11-16T18:43:39.556054Z"
    },
    "papermill": {
     "duration": 0.048781,
     "end_time": "2021-11-16T18:51:58.577299",
     "exception": false,
     "start_time": "2021-11-16T18:51:58.528518",
     "status": "completed"
    },
    "tags": []
   },
   "outputs": [],
   "source": [
    "submission.to_csv('sub.csv', index=False)"
   ]
  }
 ],
 "metadata": {
  "kernelspec": {
   "display_name": "Python 3",
   "language": "python",
   "name": "python3"
  },
  "language_info": {
   "codemirror_mode": {
    "name": "ipython",
    "version": 3
   },
   "file_extension": ".py",
   "mimetype": "text/x-python",
   "name": "python",
   "nbconvert_exporter": "python",
   "pygments_lexer": "ipython3",
   "version": "3.7.10"
  },
  "papermill": {
   "default_parameters": {},
   "duration": 92.01242,
   "end_time": "2021-11-16T18:51:59.500515",
   "environment_variables": {},
   "exception": null,
   "input_path": "__notebook__.ipynb",
   "output_path": "__notebook__.ipynb",
   "parameters": {},
   "start_time": "2021-11-16T18:50:27.488095",
   "version": "2.3.3"
  }
 },
 "nbformat": 4,
 "nbformat_minor": 5
}
